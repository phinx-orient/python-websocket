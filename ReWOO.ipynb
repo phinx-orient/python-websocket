{
 "cells": [
  {
   "cell_type": "code",
   "execution_count": 74,
   "metadata": {},
   "outputs": [
    {
     "data": {
      "text/plain": [
       "True"
      ]
     },
     "execution_count": 74,
     "metadata": {},
     "output_type": "execute_result"
    }
   ],
   "source": [
    "from dotenv import load_dotenv\n",
    "\n",
    "load_dotenv()"
   ]
  },
  {
   "cell_type": "markdown",
   "metadata": {},
   "source": [
    "# ReWOO"
   ]
  },
  {
   "cell_type": "code",
   "execution_count": 75,
   "metadata": {},
   "outputs": [],
   "source": [
    "from typing import List\n",
    "from typing_extensions import TypedDict\n",
    "\n",
    "\n",
    "class ReWOO(TypedDict):\n",
    "    task: str\n",
    "    plan_string: str\n",
    "    steps: List\n",
    "    results: dict\n",
    "    result: str\n"
   ]
  },
  {
   "cell_type": "markdown",
   "metadata": {},
   "source": [
    "# Planner"
   ]
  },
  {
   "cell_type": "code",
   "execution_count": 76,
   "metadata": {},
   "outputs": [],
   "source": [
    "from langchain_openai import AzureChatOpenAI\n",
    "\n",
    "model = AzureChatOpenAI(model=\"gpt-4o-mini\")\n"
   ]
  },
  {
   "cell_type": "code",
   "execution_count": 77,
   "metadata": {},
   "outputs": [],
   "source": [
    "prompt = \"\"\"For the following task, make plans that can solve the problem step by step. For each plan, indicate \\\n",
    "which external tool together with tool input to retrieve evidence. You can store the evidence into a \\\n",
    "variable #E that can be called by later tools. (Plan, #E1, Plan, #E2, Plan, ...)\n",
    "\n",
    "Tools can be one of the following:\n",
    "(1) Google[input]: Worker that searches results from Google. Useful when you need to find short\n",
    "and succinct answers about a specific topic. The input should be a search query.\n",
    "(2) LLM[input]: A pretrained LLM like yourself. Useful when you need to act with general\n",
    "world knowledge and common sense. Prioritize it when you are confident in solving the problem\n",
    "yourself. Input can be any instruction.\n",
    "\n",
    "For example,\n",
    "Task: Thomas, Toby, and Rebecca worked a total of 157 hours in one week. Thomas worked x\n",
    "hours. Toby worked 10 hours less than twice what Thomas worked, and Rebecca worked 8 hours\n",
    "less than Toby. How many hours did Rebecca work?\n",
    "Plan: Given Thomas worked x hours, translate the problem into algebraic expressions and solve\n",
    "with Wolfram Alpha. #E1 = WolframAlpha[Solve x + (2x − 10) + ((2x − 10) − 8) = 157]\n",
    "Plan: Find out the number of hours Thomas worked. #E2 = LLM[What is x, given #E1]\n",
    "Plan: Calculate the number of hours Rebecca worked. #E3 = Calculator[(2 ∗ #E2 − 10) − 8]\n",
    "\n",
    "Begin! \n",
    "Describe your plans with rich details. Each Plan should be followed by only one #E.\n",
    "\n",
    "Task: {task}\"\"\"\n"
   ]
  },
  {
   "cell_type": "code",
   "execution_count": 78,
   "metadata": {},
   "outputs": [],
   "source": [
    "task = \"what is the exact hometown of the 2024 mens australian open winner\"\n"
   ]
  },
  {
   "cell_type": "code",
   "execution_count": 79,
   "metadata": {},
   "outputs": [],
   "source": [
    "result = model.invoke(prompt.format(task=task))\n"
   ]
  },
  {
   "cell_type": "code",
   "execution_count": 24,
   "metadata": {},
   "outputs": [
    {
     "name": "stdout",
     "output_type": "stream",
     "text": [
      "Plan: The first step is to identify the winner of the 2024 Men's Australian Open. Since the tournament occurs annually in January, the winner should be available from recent news. I will search for the winner using Google.\n",
      "#E1 = Google[\"2024 Men's Australian Open winner\"]\n",
      "\n",
      "Plan: Once I have identified the winner, I need to find his exact hometown. This can be done by searching for the hometown of the winner using Google.\n",
      "#E2 = Google[\"Exact hometown of #E1\"]\n"
     ]
    }
   ],
   "source": [
    "print(result.content)\n"
   ]
  },
  {
   "cell_type": "markdown",
   "metadata": {},
   "source": [
    "Planner Node\n",
    "\n",
    "To connect the planner to our graph, we will create a get_plan node that accepts the ReWOO state and returns with a state update for the steps and plan_string fields."
   ]
  },
  {
   "cell_type": "code",
   "execution_count": 80,
   "metadata": {},
   "outputs": [],
   "source": [
    "import re\n",
    "\n",
    "from langchain_core.prompts import ChatPromptTemplate\n",
    "\n",
    "# Regex to match expressions of the form E#... = ...[...]\n",
    "regex_pattern = r\"Plan:\\s*(.+)\\s*(#E\\d+)\\s*=\\s*(\\w+)\\s*\\[([^\\]]+)\\]\"\n",
    "prompt_template = ChatPromptTemplate.from_messages([(\"user\", prompt)])\n",
    "planner = prompt_template | model\n",
    "\n",
    "\n",
    "def get_plan(state: ReWOO):\n",
    "    task = state[\"task\"]\n",
    "    result = planner.invoke({\"task\": task})\n",
    "    # Find all matches in the sample text\n",
    "    matches = re.findall(regex_pattern, result.content)\n",
    "    return {\"steps\": matches, \"plan_string\": result.content}\n"
   ]
  },
  {
   "cell_type": "markdown",
   "metadata": {},
   "source": [
    "# Executor"
   ]
  },
  {
   "cell_type": "code",
   "execution_count": 81,
   "metadata": {},
   "outputs": [],
   "source": [
    "from langchain_core.tools import tool\n",
    "from web_search import process_search_results, async_get_page_content\n",
    "\n",
    "\n",
    "@tool\n",
    "async def search(query):\n",
    "    \"\"\"\n",
    "    tool for google search internet\n",
    "    Args:\n",
    "        query: str\n",
    "    Output:\n",
    "        List[str, any]\n",
    "    \"\"\"\n",
    "    content_list = []\n",
    "    urls = await process_search_results(input=query)\n",
    "    # return urls\n",
    "    for url in urls:\n",
    "        content = await async_get_page_content(url)\n",
    "        content_list.append(content)\n",
    "    return content_list"
   ]
  },
  {
   "cell_type": "code",
   "execution_count": 28,
   "metadata": {},
   "outputs": [
    {
     "name": "stderr",
     "output_type": "stream",
     "text": [
      "2024-12-05 16:27:16.841 | INFO     | web_search:process_search_results:22 - Before generate\n",
      "2024-12-05 16:27:16.843 | INFO     | web_search:process_search_results:23 - Use Web\n",
      "2024-12-05 16:27:16.844 | INFO     | web_search:process_search_results:25 - English question: ['hiện tại là mấy giờ ở vn']\n",
      "2024-12-05 16:27:16.845 | INFO     | web_search:process_search_results:27 - After generate\n",
      "2024-12-05 16:27:16.846 | INFO     | web_search:process_search_results:31 - Before get_search_results\n"
     ]
    },
    {
     "name": "stdout",
     "output_type": "stream",
     "text": [
      "Queries: ['hiện tại là mấy giờ ở vn']\n"
     ]
    },
    {
     "name": "stderr",
     "output_type": "stream",
     "text": [
      "2024-12-05 16:27:17.976 | INFO     | web_search:fetch_and_parse:150 - Fetch url: https://onlinealarmkur.com/clock/en/\n",
      "2024-12-05 16:27:18.094 | INFO     | web_search:fetch_and_parse:150 - Fetch url: https://vi.thetimenow.com/vietnam\n",
      "2024-12-05 16:27:19.388 | INFO     | web_search:fetch_and_parse:150 - Fetch url: https://time.is/vi/Hanoi\n"
     ]
    },
    {
     "data": {
      "text/plain": [
       "['Online Clock - Digital and Analog\\nMenu\\nOnline Alarm Clock\\nOnline Timer\\nOnline Countdown\\nOnline Stopwatch\\nOnline Clock\\nWorld Clock\\nDate Calculator\\nHours Calculator\\nWeek Number\\nCalendar 2025\\nOnline Clock\\nThursday, November 28, 2024\\n12:00:00 AM\\n1\\n2\\n3\\n4\\n5\\n6\\n7\\n8\\n9\\n10\\n11\\n12\\nDigital Clock\\nAnalog Clock\\nWhat Is the Online Clock?\\nWhen you want to know, \"What time is it?\", you can use the online clock to see the current time in hours, minutes, and seconds.\\nTo see the time in different countries and timezones around the world, check the\\nworld clock\\n.\\nHow Do I Use the Online Clock?\\nThe online clock doesn\\'t let you track time passing. You can use the\\nonline stopwatch\\n,\\nonline timer\\n, or\\nonline alarm clock\\nfor these tasks. All you need to do is view the clock with the date.\\nHere\\'s how to use the online clock for different tasks:\\nTo view the current time digitally, click\\nDigital Clock\\n.\\nTo know, \"What time is it?\" in analog, tap\\nAnalog Clock\\n.\\nTo make the internet clock full-screen, tap the\\nFull-Screen\\nsymbol (the outward arrows) in the top right-hand corner.\\nHow Do I Change the Time Zone?\\nCheck the\\nworld clock\\npage. Then, click on a city from the world clock to change the clock\\'s time zone. The internet clock will update with the new time accordingly. To reset it, click on the selected city under the clock.\\nHow Does the Online Clock Work?\\nOur clock is smart and uses your computer or phone\\'s information to show you the current time in your location. If your computer or phone is manually set to the incorrect time (rather than the computer-generated time), the online clock will also show the incorrect time. You can correct this by ensuring your device is set to the right time zone and/or has the right time.\\nWhy Use the Online Clock?\\nYou can use this time clock for all kinds of activities, including:\\nWork out what time it is\\nSee the current time in hours, minutes, and seconds.\\nView live clock with seconds\\nView an online full-screen clock for an exam, classroom activity, games night, or while working/studying to track the time\\nView an analog clock or digital internet clock on the screen\\nUsing this full-screen clock can help you if you are working in a classroom and want to show students the time in seconds, at work if you are running a group exercise in a meeting, or at home if you are exercising. You can save time and have a visual aid of the current time to help you track how much time is left.\\nWidth\\nHeight\\nTimezone\\nEmbed Code\\nPlease consider crediting us when using this embed feature with the following HTML code.\\n<a href=\"https://onlinealarmkur.com/clock/en/\">Online Clock</a>\\nCopy\\nClose\\nSettings\\nDark Mode\\nShow date\\nShow seconds\\n24-hour format\\nClose\\nTimers\\nOnline Alarm Clock\\nOnline Timer\\nOnline Stopwatch\\nOnline Countdown\\nTime\\nOnline Clock\\nWorld Clock\\nWeek Number\\nCalendar 2025\\nCalculators\\nDate Calculator\\nHours Calculator\\nLegal\\nAbout\\nPrivacy Policy\\nTerms of Service\\nYouTube\\nX\\nBluesky\\nOnline Alarm Kur\\n© 2024 All rights reserved\\nEN\\nEnglish\\nAR\\nالعربية\\nBG\\nБългарски\\nCS\\nČeština\\nDA\\nDansk\\nDE\\nDeutsch\\nEL\\nΕλληνικά\\nEN\\nEnglish\\nES\\nEspañol\\nFI\\nSuomi\\nFR\\nFrançais\\nHE\\nעברית\\nHR\\nHrvatski\\nHU\\nMagyar\\nID\\nBahasa Indonesia\\nIT\\nItaliano\\nJA\\n日本語\\nKO\\n한국어\\nNL\\nNederlands\\nNO\\nNorsk Bokmål\\nPL\\nPolski\\nPT\\nPortuguês\\nRO\\nRomână\\nRU\\nРусский\\nSK\\nSlovenčina\\nSR\\nSrpski\\nSV\\nSvenska\\nTH\\nภาษาไทย\\nTR\\nTürkçe\\nUK\\nУкраїнська\\nVI\\nTiếng Việt\\nZH-CN\\n中文(简体)\\nZH-TW\\n中文(台灣)',\n",
       " 'Thời gian hiện tại địa phương trong năm Công Hòa Xã Hội Chủ Nghĩa Việt Nam và thời tiết trong năm Công Hòa Xã Hội Chủ Nghĩa Việt Nam\\nSome features of this website require Javascript. Please enable Javascript in your browser for an enhanced experience, thanks.\\nWebsite Accessibility\\nTiếng Việt\\n▼\\nx\\nČeština\\nDansk\\nDeutsch\\nEnglish\\nEspañol\\nFrançais\\nItaliano\\nMagyar\\nNederlands\\nNorsk\\nPolski\\nPortuguês\\nRomână\\nSuomi\\nSlovenčina\\nSlovenščina\\nSvenska\\nTürkçe\\nРусский\\nTiếng Việt\\nελληνικά\\nБългарски\\nالعربية\\u200f\\nעברית\\n日本語\\n한국어\\n中文(简体)\\nहिन्दी\\nภาษาไทย\\nSearch TheTimeNow:\\nĐồng hồ thế giới\\nMúi giờ ▼\\nKý hiệu\\nChuyển đổi múi giờ\\nThời tiết & Dự báo thời tiết\\ncông cụ ▼\\nMã điện thoại\\nTính khoảng cách\\nTIME CALCULATOR\\nTạo lịch họp\\nBiểu đồ thời gian quân sự\\nEST\\n04:27\\nGiờ chuẩn miền Đông EST\\nCST\\n03:27\\nGiờ chuẩn miền Trung CST\\nPST\\n01:27\\nGiờ chuẩn Thái Bình Dương PST\\nGMT\\n09:27\\nGiờ GMT\\nUTC\\n09:27\\nGiờ quốc tế UCT\\nGiờ địa phương hiện tại\\nGiờ mùa hè\\nMúi giờ\\nChuyển đổi Múi Giờ:\\nCST » EST\\nEST » GMT\\nEST » IST\\nGMT » EST\\nPDT » EST\\nPDT » GMT\\nPST » EST\\nPST » GMT\\nPST » IST\\nThe Time Now\\n>\\nCông Hòa Xã Hội Chủ Nghĩa Việt Nam\\nGiờ địa phương hiện tại và thời tiết tại Công Hòa Xã Hội Chủ Nghĩa Việt Nam\\n12\\n                                    hour\\n24\\n                                    hour\\n16:27:19\\nUTC/GMT +7 giờ\\n05\\nThursday\\nDec 2024\\nCompare Time Difference Between 2 Cities\\nCalculate Distance Between 2 Cities\\nMeeting Planner Tool\\nThông tin\\nQuốc gia\\nThủ đô\\nTiền tệ\\nHà Nội\\nMã điện thoại quốc tế\\n+84 (Công Hòa Xã Hội Chủ Nghĩa Việt Nam)\\nLàm thế nào để gọi tới Công Hòa Xã Hội Chủ Nghĩa Việt Nam?\\nTọa độ\\nTọa độ theo độ\\nTọa độ dạng thập phân\\nCao độ\\nVĩ độ\\nKinh độ\\nVĩ độ\\nKinh độ\\n21.0333333\\n105.85\\n21 mét (68.9 foot)\\nQuy ước giờ mùa hè ở Công Hòa Xã Hội Chủ Nghĩa Việt Nam\\nGiờ chuẩn\\nQuy ước giờ mùa hè\\nUTC\\n/\\nGMT\\n+7 giờ\\nThành phố lớn nhất ở Công Hòa Xã Hội Chủ Nghĩa Việt Nam\\nHà Nội\\nThành phố Hồ Chí Minh\\nĐà Nẵng\\nHải Phòng\\nBiên Hòa\\nHuế\\nNha Trang\\nCần Thơ\\nRạch Giá\\nQuy Nhơn\\nVũng Tàu\\nÐà Lạt\\nNam Ðịnh\\nVinh\\nPhan Thiết\\nLong Xuyên\\nCần Duộc\\nHạ Long\\nBuôn Ma Thuột\\nCam Ranh\\nSa Pá\\nCẩm Phả Mines\\nThái Nguyên\\nMỹ Tho\\nSóc Trăng\\nPlây Cu\\nThanh Hóa\\nCà Mau\\nBạc Liêu\\nYên Vinh\\nMúi giờ của các thành phố lớn\\nNew York, NY\\nLuân Đôn\\nTôkiô\\nWashington DC\\nPari\\nBéc Lin\\nMátx-cơ-va\\nAmsterdam\\nManila\\nMiami, FL\\nAtlanta, GA\\nLas Vegas, NV\\nSeattle, WA\\nHouston, TX\\nBoston, MA\\nSan Francisco, CA\\nChicago, IL\\nLos Angeles, CA\\nMumbai\\nKuala Lumpur\\nKarachi\\nToronto\\nMontreal\\nSydney\\nMexico City\\nRio de Janeiro\\nSao Paulo\\nXingapo\\nMúi giờ của các quốc gia lớn\\nẤn Độ\\nÚc\\nHoa Kỳ\\nVương quốc Anh\\nNhật Bản\\nĐức\\nTrung Quốc\\nPháp\\nCanađa\\nGhana\\nÝ\\nNam Phi\\nTây Ban Nha\\nThái Lan\\nPakistan\\nBraxin\\nMehicô\\nMalaysia\\nKenya\\nAfghanistan\\nHy Lạp\\nNigeria\\nChilê\\nHàn Quốc\\nUcraina\\nBồ Đào Nha\\nMa Rốc\\nUganđa\\nNga\\nAi Cập\\nPhilippin\\nViệt Nam\\nInđônêxia\\nMúi giờ của các thành phố lớn\\nNew York, NY\\nLuân Đôn\\nTôkiô\\nWashington DC\\nPari\\nBéc Lin\\nMátx-cơ-va\\nAmsterdam\\nManila\\nMiami, FL\\nAtlanta, GA\\nLas Vegas, NV\\nSeattle, WA\\nHouston, TX\\nBoston, MA\\nSan Francisco, CA\\nChicago, IL\\nLos Angeles, CA\\nMumbai\\nKuala Lumpur\\nKarachi\\nToronto\\nMontreal\\nSydney\\nMexico City\\nRio de Janeiro\\nSao Paulo\\nXingapo\\nMúi giờ của các quốc gia lớn\\nẤn Độ\\nÚc\\nHoa Kỳ\\nVương quốc Anh\\nNhật Bản\\nĐức\\nTrung Quốc\\nPháp\\nCanađa\\nGhana\\nÝ\\nNam Phi\\nTây Ban Nha\\nThái Lan\\nPakistan\\nBraxin\\nMehicô\\nMalaysia\\nKenya\\nAfghanistan\\nHy Lạp\\nNigeria\\nChilê\\nHàn Quốc\\nUcraina\\nBồ Đào Nha\\nMa Rốc\\nUganđa\\nNga\\nAi Cập\\nPhilippin\\nViệt Nam\\nInđônêxia\\nGiới thiệu về The Time Now\\n|\\nChính sách bảo mật\\n|\\nLiên hệ với chúng tôi\\n|\\n        © Bản quyền The Time Now 1998-2024',\n",
       " 'Thời gian ở Hà Nội, Việt Nam hiện tại - Time.is\\n×\\nTime.is\\nGet Time.is Ad-free!\\nThời gian ở\\nHà Nội\\n, Việt Nam hiện tại\\n16:27:19\\nĐồng hồ sẽ cập nhật tự động nếu bạn bật JavaScript trong trình duyệt của bạn.\\nThứ Năm, 5  Tháng Mười Hai, 2024, tuần 49\\nInternational Volunteer Day\\nMặt trời:\\n↑ 06:19 ↓ 17:16 (10giờ 57phút)\\n-\\nThêm thông tin\\n-\\nĐặt thời gian Hà Nội làm mặc định\\n-\\nThêm vào vị trí yêu thích\\nTokyo\\n18:27\\nBắc Kinh\\n17:27\\nParis\\n10:27\\nLuân Đôn\\n09:27\\nThành phố New York\\n04:27\\nLos Angeles\\n01:27\\nThêm\\nRemove the ads? Get Time.is Ad-free!\\nThông tin múi giờ của\\nHà Nội\\nUTC +7\\nIndochina Time\\n(ICT)\\nHà Nội không thay đổi giữa giờ mùa hè và giờ mùa đông.\\nĐịnh danh múi giờ IANA cho Hà Nội là Asia/Bangkok.\\nSự khác biệt thời gian\\ntừ Hà Nội\\nLos Angeles\\n−\\n1\\n5\\ngiờ\\n−\\n1\\n5\\ngiờ\\nChicago\\n−\\n1\\n3\\ngiờ\\n−\\n1\\n3\\ngiờ\\nThành phố New York\\n−\\n1\\n2\\ngiờ\\n−\\n1\\n2\\ngiờ\\nToronto\\n−\\n1\\n2\\ngiờ\\n−\\n1\\n2\\ngiờ\\nSão Paulo\\n−\\n1\\n0\\ngiờ\\n−\\n1\\n0\\ngiờ\\nLuân Đôn\\n−\\n7\\ngiờ\\n−\\n7\\ngiờ\\nUTC\\n−\\n7\\ngiờ\\n−\\n7\\ngiờ\\nLagos\\n−\\n6\\ngiờ\\n−\\n6\\ngiờ\\nParis\\n−\\n6\\ngiờ\\n−\\n6\\ngiờ\\nZürich\\n−\\n6\\ngiờ\\n−\\n6\\ngiờ\\nCairo\\n−\\n5\\ngiờ\\n−\\n5\\ngiờ\\nJohannesburg\\n−\\n5\\ngiờ\\n−\\n5\\ngiờ\\nIstanbul\\n−\\n4\\ngiờ\\n−\\n4\\ngiờ\\nMoskva\\n−\\n4\\ngiờ\\n−\\n4\\ngiờ\\nDubai\\n−\\n3\\ngiờ\\n−\\n3\\ngiờ\\nMumbai\\n−\\n1\\n,\\n5\\ngiờ\\n−\\n1\\n,\\n5\\ngiờ\\nHồng Kông\\n+\\n1\\ngiờ\\nSingapore\\n+\\n1\\ngiờ\\nThượng Hải\\n+\\n1\\ngiờ\\nTokyo\\n+\\n2\\ngiờ\\nSydney\\n+\\n4\\ngiờ\\nSo sánh các múi giờ khác\\nBình minh, hoàng hôn, độ dài ngày và thời gian mặt trời cho Hà Nội\\nBình minh: 06:19\\nHoàng hôn: 17:16\\nĐộ dài ngày: 10giờ 57phút\\nMặt trời lên thiên đỉnh: 11:47\\nThời gian hiện tại ở Hà Nội hiện đang chậm hơn 13 phút so với giờ mặt trời.\\nHà Nội trên bản đồ\\nHà Nội là thủ đô của\\nViệt Nam\\n.\\nVĩ độ: 21,02. Kinh độ: 105,84\\nDân số: 8.054.000\\nMở Hà Nội trong Google Maps\\n×\\nTime.is\\n-\\nThời gian chính xác cho bất kì múi giờ nào\\nGiờ chính xác hiện tại\\nThời gian ở đây & đó\\nYour time zone\\nCác múi giờ\\nTiết Kiệm Ánh Sáng Ban Ngày (DST)\\nĐồng hồ\\nLịch\\nLịch thu nhỏ\\nSố tuần\\nÂm thanh\\nỨng dụng\\nTiện ích nhúng\\nTin tức múi giờ\\nĐăng kí nhận bản tin\\nUTC\\nĐồng hồ Unix\\nBộ chuyển đổi thời gian Unix\\nTuỳ chỉnh\\nCâu hỏi thường gặp\\nCách sử dụng Time.is\\nGiới thiệu\\nLiên hệ\\nQuảng cáo\\nĐiều khoản sử dụng\\nChính sách quyền riêng tư\\nTime.is hiển thị thời gian chính xác và chính thức của đồng hồ nguyên tử cho bất kì múi giờ nào (hơn 7 triệu vị trí) bằng 57 ngôn ngữ.\\nWhat time is it?\\n几点了？\\nक्या समय हुआ है?\\n¿Qué hora es?\\nQuelle heure est-il ?\\nكم الساعة\\nএখন কয়টা বাজে?\\nКоторый час?\\nQue horas são?\\nJam berapa?\\nWieviel Uhr ist es?\\n今何時ですか？\\nSaat kaç?\\nஎன்ன நேரம்?\\n؟ےہ اوہ تقو ایک\\n≫ more languages']"
      ]
     },
     "execution_count": 28,
     "metadata": {},
     "output_type": "execute_result"
    }
   ],
   "source": [
    "result = await search.ainvoke(\"hiện tại là mấy giờ ở vn\")\n",
    "result"
   ]
  },
  {
   "cell_type": "code",
   "execution_count": 82,
   "metadata": {},
   "outputs": [],
   "source": [
    "def _get_current_task(state: ReWOO):\n",
    "    if \"results\" not in state or state[\"results\"] is None:\n",
    "        return 1\n",
    "    if len(state[\"results\"]) == len(state[\"steps\"]):\n",
    "        return None\n",
    "    else:\n",
    "        return len(state[\"results\"]) + 1\n",
    "\n",
    "\n",
    "async def tool_execution(state: ReWOO):\n",
    "    \"\"\"Worker node that executes the tools of a given plan.\"\"\"\n",
    "    _step = _get_current_task(state)\n",
    "    _, step_name, tool, tool_input = state[\"steps\"][_step - 1]\n",
    "    _results = (state[\"results\"] or {}) if \"results\" in state else {}\n",
    "    for k, v in _results.items():\n",
    "        tool_input = tool_input.replace(k, v)\n",
    "    if tool == \"Google\":\n",
    "        result = await search.ainvoke(tool_input)\n",
    "    elif tool == \"LLM\":\n",
    "        result = await model.ainvoke(tool_input)\n",
    "    else:\n",
    "        raise ValueError\n",
    "    _results[step_name] = str(result)\n",
    "    return {\"results\": _results}\n"
   ]
  },
  {
   "cell_type": "markdown",
   "metadata": {},
   "source": [
    "# Solver"
   ]
  },
  {
   "cell_type": "code",
   "execution_count": 83,
   "metadata": {},
   "outputs": [],
   "source": [
    "solve_prompt = \"\"\"Solve the following task or problem. To solve the problem, we have made step-by-step Plan and \\\n",
    "retrieved corresponding Evidence to each Plan. Use them with caution since long evidence might \\\n",
    "contain irrelevant information.\n",
    "\n",
    "{plan}\n",
    "\n",
    "Now solve the question or task according to provided Evidence above. Respond with the answer\n",
    "directly with no extra words.\n",
    "\n",
    "Task: {task}\n",
    "Response:\"\"\"\n",
    "\n",
    "\n",
    "async def solve(state: ReWOO):\n",
    "    plan = \"\"\n",
    "    for _plan, step_name, tool, tool_input in state[\"steps\"]:\n",
    "        _results = (state[\"results\"] or {}) if \"results\" in state else {}\n",
    "        for k, v in _results.items():\n",
    "            tool_input = tool_input.replace(k, v)\n",
    "            step_name = step_name.replace(k, v)\n",
    "        plan += f\"Plan: {_plan}\\n{step_name} = {tool}[{tool_input}]\"\n",
    "    prompt = solve_prompt.format(plan=plan, task=state[\"task\"])\n",
    "    result = await model.ainvoke(prompt)\n",
    "    return {\"result\": result.content}\n"
   ]
  },
  {
   "cell_type": "markdown",
   "metadata": {},
   "source": [
    "# Define Graph"
   ]
  },
  {
   "cell_type": "code",
   "execution_count": 84,
   "metadata": {},
   "outputs": [],
   "source": [
    "def _route(state):\n",
    "    _step = _get_current_task(state)\n",
    "    if _step is None:\n",
    "        # We have executed all tasks\n",
    "        return \"solve\"\n",
    "    else:\n",
    "        # We are still executing tasks, loop back to the \"tool\" node\n",
    "        return \"tool\"\n"
   ]
  },
  {
   "cell_type": "code",
   "execution_count": 85,
   "metadata": {},
   "outputs": [],
   "source": [
    "from langgraph.graph import END, StateGraph, START\n",
    "\n",
    "graph = StateGraph(ReWOO)\n",
    "graph.add_node(\"plan\", get_plan)\n",
    "graph.add_node(\"tool\", tool_execution)\n",
    "graph.add_node(\"solve\", solve)\n",
    "graph.add_edge(\"plan\", \"tool\")\n",
    "graph.add_edge(\"solve\", END)\n",
    "graph.add_conditional_edges(\"tool\", _route)\n",
    "graph.add_edge(START, \"plan\")\n",
    "\n",
    "app = graph.compile()\n"
   ]
  },
  {
   "cell_type": "code",
   "execution_count": 86,
   "metadata": {},
   "outputs": [
    {
     "name": "stdout",
     "output_type": "stream",
     "text": [
      "{'plan': {'plan_string': 'To solve the task of finding the exact hometown of the 2024 Men\\'s Australian Open winner, I will create a series of plans to gather the necessary information.\\n\\n### Plan 1: Search for the winner of the 2024 Men\\'s Australian Open\\nTo start, I need to identify the winner of the 2024 Men\\'s Australian Open. I\\'ll use Google to search for this information.\\n- **#E1** = Google[\"2024 Men\\'s Australian Open winner\"]\\n\\n### Plan 2: Find the hometown of the identified winner\\nOnce I have the name of the winner from the first plan, I will then search for their hometown. I will again use Google for a specific search related to the winner\\'s background.\\n- **#E2** = Google[\"hometown of #E1\"]\\n\\n### Plan 3: Verify the accuracy of the hometown information\\nTo ensure that the information about the winner\\'s hometown is accurate, I will use an LLM to contextualize and confirm the details gathered in the previous plans.\\n- **#E3** = LLM[\"Confirm the hometown of the winner #E1\"]\\n\\nThis series of plans will systematically gather and verify the information needed regarding the 2024 Men\\'s Australian Open winner and their hometown.', 'steps': []}}\n",
      "---\n"
     ]
    },
    {
     "ename": "IndexError",
     "evalue": "list index out of range",
     "output_type": "error",
     "traceback": [
      "\u001b[1;31m---------------------------------------------------------------------------\u001b[0m",
      "\u001b[1;31mIndexError\u001b[0m                                Traceback (most recent call last)",
      "Cell \u001b[1;32mIn[86], line 1\u001b[0m\n\u001b[1;32m----> 1\u001b[0m \u001b[38;5;28;01masync\u001b[39;00m \u001b[38;5;28;01mfor\u001b[39;00m s \u001b[38;5;129;01min\u001b[39;00m app\u001b[38;5;241m.\u001b[39mastream({\u001b[38;5;124m\"\u001b[39m\u001b[38;5;124mtask\u001b[39m\u001b[38;5;124m\"\u001b[39m: task}):\n\u001b[0;32m      2\u001b[0m     \u001b[38;5;28mprint\u001b[39m(s)\n\u001b[0;32m      3\u001b[0m     \u001b[38;5;28mprint\u001b[39m(\u001b[38;5;124m\"\u001b[39m\u001b[38;5;124m---\u001b[39m\u001b[38;5;124m\"\u001b[39m)\n",
      "File \u001b[1;32mc:\\Users\\phi.nguyen\\.conda\\envs\\test\\lib\\site-packages\\langgraph\\pregel\\__init__.py:1782\u001b[0m, in \u001b[0;36mPregel.astream\u001b[1;34m(self, input, config, stream_mode, output_keys, interrupt_before, interrupt_after, debug, subgraphs)\u001b[0m\n\u001b[0;32m   1776\u001b[0m \u001b[38;5;66;03m# Similarly to Bulk Synchronous Parallel / Pregel model\u001b[39;00m\n\u001b[0;32m   1777\u001b[0m \u001b[38;5;66;03m# computation proceeds in steps, while there are channel updates\u001b[39;00m\n\u001b[0;32m   1778\u001b[0m \u001b[38;5;66;03m# channel updates from step N are only visible in step N+1\u001b[39;00m\n\u001b[0;32m   1779\u001b[0m \u001b[38;5;66;03m# channels are guaranteed to be immutable for the duration of the step,\u001b[39;00m\n\u001b[0;32m   1780\u001b[0m \u001b[38;5;66;03m# with channel updates applied only at the transition between steps\u001b[39;00m\n\u001b[0;32m   1781\u001b[0m \u001b[38;5;28;01mwhile\u001b[39;00m loop\u001b[38;5;241m.\u001b[39mtick(input_keys\u001b[38;5;241m=\u001b[39m\u001b[38;5;28mself\u001b[39m\u001b[38;5;241m.\u001b[39minput_channels):\n\u001b[1;32m-> 1782\u001b[0m     \u001b[38;5;28;01masync\u001b[39;00m \u001b[38;5;28;01mfor\u001b[39;00m _ \u001b[38;5;129;01min\u001b[39;00m runner\u001b[38;5;241m.\u001b[39matick(\n\u001b[0;32m   1783\u001b[0m         loop\u001b[38;5;241m.\u001b[39mtasks\u001b[38;5;241m.\u001b[39mvalues(),\n\u001b[0;32m   1784\u001b[0m         timeout\u001b[38;5;241m=\u001b[39m\u001b[38;5;28mself\u001b[39m\u001b[38;5;241m.\u001b[39mstep_timeout,\n\u001b[0;32m   1785\u001b[0m         retry_policy\u001b[38;5;241m=\u001b[39m\u001b[38;5;28mself\u001b[39m\u001b[38;5;241m.\u001b[39mretry_policy,\n\u001b[0;32m   1786\u001b[0m         get_waiter\u001b[38;5;241m=\u001b[39mget_waiter,\n\u001b[0;32m   1787\u001b[0m     ):\n\u001b[0;32m   1788\u001b[0m         \u001b[38;5;66;03m# emit output\u001b[39;00m\n\u001b[0;32m   1789\u001b[0m         \u001b[38;5;28;01mfor\u001b[39;00m o \u001b[38;5;129;01min\u001b[39;00m output():\n\u001b[0;32m   1790\u001b[0m             \u001b[38;5;28;01myield\u001b[39;00m o\n",
      "File \u001b[1;32mc:\\Users\\phi.nguyen\\.conda\\envs\\test\\lib\\site-packages\\langgraph\\pregel\\runner.py:221\u001b[0m, in \u001b[0;36mPregelRunner.atick\u001b[1;34m(self, tasks, reraise, timeout, retry_policy, get_waiter)\u001b[0m\n\u001b[0;32m    219\u001b[0m t \u001b[38;5;241m=\u001b[39m tasks[\u001b[38;5;241m0\u001b[39m]\n\u001b[0;32m    220\u001b[0m \u001b[38;5;28;01mtry\u001b[39;00m:\n\u001b[1;32m--> 221\u001b[0m     \u001b[38;5;28;01mawait\u001b[39;00m arun_with_retry(\n\u001b[0;32m    222\u001b[0m         t, retry_policy, stream\u001b[38;5;241m=\u001b[39m\u001b[38;5;28mself\u001b[39m\u001b[38;5;241m.\u001b[39muse_astream, writer\u001b[38;5;241m=\u001b[39mwriter\n\u001b[0;32m    223\u001b[0m     )\n\u001b[0;32m    224\u001b[0m     \u001b[38;5;28mself\u001b[39m\u001b[38;5;241m.\u001b[39mcommit(t, \u001b[38;5;28;01mNone\u001b[39;00m)\n\u001b[0;32m    225\u001b[0m \u001b[38;5;28;01mexcept\u001b[39;00m \u001b[38;5;167;01mException\u001b[39;00m \u001b[38;5;28;01mas\u001b[39;00m exc:\n",
      "File \u001b[1;32mc:\\Users\\phi.nguyen\\.conda\\envs\\test\\lib\\site-packages\\langgraph\\pregel\\retry.py:118\u001b[0m, in \u001b[0;36marun_with_retry\u001b[1;34m(task, retry_policy, stream, writer)\u001b[0m\n\u001b[0;32m    116\u001b[0m         \u001b[38;5;28;01mpass\u001b[39;00m\n\u001b[0;32m    117\u001b[0m \u001b[38;5;28;01melse\u001b[39;00m:\n\u001b[1;32m--> 118\u001b[0m     \u001b[38;5;28;01mawait\u001b[39;00m task\u001b[38;5;241m.\u001b[39mproc\u001b[38;5;241m.\u001b[39mainvoke(task\u001b[38;5;241m.\u001b[39minput, config)\n\u001b[0;32m    119\u001b[0m \u001b[38;5;66;03m# if successful, end\u001b[39;00m\n\u001b[0;32m    120\u001b[0m \u001b[38;5;28;01mbreak\u001b[39;00m\n",
      "File \u001b[1;32mc:\\Users\\phi.nguyen\\.conda\\envs\\test\\lib\\site-packages\\langgraph\\utils\\runnable.py:455\u001b[0m, in \u001b[0;36mRunnableSeq.ainvoke\u001b[1;34m(self, input, config, **kwargs)\u001b[0m\n\u001b[0;32m    453\u001b[0m             \u001b[38;5;28minput\u001b[39m \u001b[38;5;241m=\u001b[39m \u001b[38;5;28;01mawait\u001b[39;00m asyncio\u001b[38;5;241m.\u001b[39mcreate_task(coro, context\u001b[38;5;241m=\u001b[39mcontext)\n\u001b[0;32m    454\u001b[0m         \u001b[38;5;28;01melse\u001b[39;00m:\n\u001b[1;32m--> 455\u001b[0m             \u001b[38;5;28minput\u001b[39m \u001b[38;5;241m=\u001b[39m \u001b[38;5;28;01mawait\u001b[39;00m asyncio\u001b[38;5;241m.\u001b[39mcreate_task(coro)\n\u001b[0;32m    456\u001b[0m \u001b[38;5;66;03m# finish the root run\u001b[39;00m\n\u001b[0;32m    457\u001b[0m \u001b[38;5;28;01mexcept\u001b[39;00m \u001b[38;5;167;01mBaseException\u001b[39;00m \u001b[38;5;28;01mas\u001b[39;00m e:\n",
      "File \u001b[1;32mc:\\Users\\phi.nguyen\\.conda\\envs\\test\\lib\\site-packages\\langgraph\\utils\\runnable.py:238\u001b[0m, in \u001b[0;36mRunnableCallable.ainvoke\u001b[1;34m(self, input, config, **kwargs)\u001b[0m\n\u001b[0;32m    236\u001b[0m         ret \u001b[38;5;241m=\u001b[39m \u001b[38;5;28;01mawait\u001b[39;00m asyncio\u001b[38;5;241m.\u001b[39mcreate_task(coro, context\u001b[38;5;241m=\u001b[39mcontext)\n\u001b[0;32m    237\u001b[0m     \u001b[38;5;28;01melse\u001b[39;00m:\n\u001b[1;32m--> 238\u001b[0m         ret \u001b[38;5;241m=\u001b[39m \u001b[38;5;28;01mawait\u001b[39;00m \u001b[38;5;28mself\u001b[39m\u001b[38;5;241m.\u001b[39mafunc(\u001b[38;5;28minput\u001b[39m, \u001b[38;5;241m*\u001b[39m\u001b[38;5;241m*\u001b[39mkwargs)\n\u001b[0;32m    239\u001b[0m \u001b[38;5;28;01mif\u001b[39;00m \u001b[38;5;28misinstance\u001b[39m(ret, Runnable) \u001b[38;5;129;01mand\u001b[39;00m \u001b[38;5;28mself\u001b[39m\u001b[38;5;241m.\u001b[39mrecurse:\n\u001b[0;32m    240\u001b[0m     \u001b[38;5;28;01mreturn\u001b[39;00m \u001b[38;5;28;01mawait\u001b[39;00m ret\u001b[38;5;241m.\u001b[39mainvoke(\u001b[38;5;28minput\u001b[39m, config)\n",
      "Cell \u001b[1;32mIn[82], line 13\u001b[0m, in \u001b[0;36mtool_execution\u001b[1;34m(state)\u001b[0m\n\u001b[0;32m     11\u001b[0m \u001b[38;5;250m\u001b[39m\u001b[38;5;124;03m\"\"\"Worker node that executes the tools of a given plan.\"\"\"\u001b[39;00m\n\u001b[0;32m     12\u001b[0m _step \u001b[38;5;241m=\u001b[39m _get_current_task(state)\n\u001b[1;32m---> 13\u001b[0m _, step_name, tool, tool_input \u001b[38;5;241m=\u001b[39m \u001b[43mstate\u001b[49m\u001b[43m[\u001b[49m\u001b[38;5;124;43m\"\u001b[39;49m\u001b[38;5;124;43msteps\u001b[39;49m\u001b[38;5;124;43m\"\u001b[39;49m\u001b[43m]\u001b[49m\u001b[43m[\u001b[49m\u001b[43m_step\u001b[49m\u001b[43m \u001b[49m\u001b[38;5;241;43m-\u001b[39;49m\u001b[43m \u001b[49m\u001b[38;5;241;43m1\u001b[39;49m\u001b[43m]\u001b[49m\n\u001b[0;32m     14\u001b[0m _results \u001b[38;5;241m=\u001b[39m (state[\u001b[38;5;124m\"\u001b[39m\u001b[38;5;124mresults\u001b[39m\u001b[38;5;124m\"\u001b[39m] \u001b[38;5;129;01mor\u001b[39;00m {}) \u001b[38;5;28;01mif\u001b[39;00m \u001b[38;5;124m\"\u001b[39m\u001b[38;5;124mresults\u001b[39m\u001b[38;5;124m\"\u001b[39m \u001b[38;5;129;01min\u001b[39;00m state \u001b[38;5;28;01melse\u001b[39;00m {}\n\u001b[0;32m     15\u001b[0m \u001b[38;5;28;01mfor\u001b[39;00m k, v \u001b[38;5;129;01min\u001b[39;00m _results\u001b[38;5;241m.\u001b[39mitems():\n",
      "\u001b[1;31mIndexError\u001b[0m: list index out of range"
     ]
    }
   ],
   "source": [
    "async for s in app.astream({\"task\": task}):\n",
    "    print(s)\n",
    "    print(\"---\")\n"
   ]
  },
  {
   "cell_type": "code",
   "execution_count": 54,
   "metadata": {},
   "outputs": [
    {
     "name": "stdout",
     "output_type": "stream",
     "text": [
      "Jannik Sinner's exact hometown is San Candido, Italy.\n"
     ]
    }
   ],
   "source": [
    "# Print out the final result\n",
    "print(s[\"solve\"][\"result\"])\n"
   ]
  }
 ],
 "metadata": {
  "kernelspec": {
   "display_name": "test",
   "language": "python",
   "name": "python3"
  },
  "language_info": {
   "codemirror_mode": {
    "name": "ipython",
    "version": 3
   },
   "file_extension": ".py",
   "mimetype": "text/x-python",
   "name": "python",
   "nbconvert_exporter": "python",
   "pygments_lexer": "ipython3",
   "version": "3.9.20"
  }
 },
 "nbformat": 4,
 "nbformat_minor": 2
}
