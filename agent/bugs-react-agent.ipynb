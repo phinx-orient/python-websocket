{
 "cells": [
  {
   "cell_type": "markdown",
   "metadata": {},
   "source": [
    "llama-index-core==0.11.21\\\n",
    "llama-index==0.11.6\\\n",
    "python==3.9"
   ]
  },
  {
   "cell_type": "code",
   "execution_count": 1,
   "metadata": {},
   "outputs": [
    {
     "name": "stderr",
     "output_type": "stream",
     "text": [
      "c:\\Users\\phi.nguyen\\.conda\\envs\\test\\lib\\site-packages\\tqdm\\auto.py:21: TqdmWarning: IProgress not found. Please update jupyter and ipywidgets. See https://ipywidgets.readthedocs.io/en/stable/user_install.html\n",
      "  from .autonotebook import tqdm as notebook_tqdm\n"
     ]
    }
   ],
   "source": [
    "from llama_index.core.agent import ReActAgent\n",
    "from llama_index.core.tools import FunctionTool, ToolMetadata\n"
   ]
  },
  {
   "cell_type": "code",
   "execution_count": 2,
   "metadata": {},
   "outputs": [],
   "source": [
    "from llama_index.core.tools import FunctionTool, ToolMetadata\n",
    "# Assuming process_search_results and get_page_content are defined elsewhere\n",
    "\n",
    "\n",
    "def process_search_results(input: str) -> str:\n",
    "    \"\"\"Dummy function for processing search results.\"\"\"\n",
    "    return f\"Dummy search results for: {query}\"\n",
    "\n",
    "\n",
    "def get_page_content(input: str) -> str:\n",
    "    \"\"\"Dummy function for fetching page content.\"\"\"\n",
    "    return f\"Dummy content from: {url}\"\n",
    "\n",
    "\n",
    "web_search_tool = FunctionTool.from_defaults(\n",
    "    fn=process_search_results,\n",
    "    tool_metadata=ToolMetadata(\n",
    "        name=\"web_search_tool\",\n",
    "        description=(\n",
    "            \"Used to retrieve information about up-to-date information, website or the information out of LLM's knowledge.'\"\n",
    "        ),\n",
    "    ),\n",
    ")\n",
    "\n",
    "web_fetch_tool = FunctionTool.from_defaults(\n",
    "    fn=get_page_content,\n",
    "    tool_metadata=ToolMetadata(\n",
    "        name=\"web_fetch_tool\",\n",
    "        description=(\"Used to fetch information of specific url\"),\n",
    "    ),\n",
    ")\n",
    "\n",
    "tools = [web_fetch_tool, web_search_tool]\n"
   ]
  },
  {
   "cell_type": "code",
   "execution_count": 3,
   "metadata": {},
   "outputs": [],
   "source": [
    "system_prompt = \"\"\"\n",
    "You are a REALLY helpful assistant.\n",
    "Your task is searching for information about up-to-date information, website or the information out of LLM's knowledge.\n",
    "If using web_search_tool, it MUST be followed by using web_fetch_tool.\n",
    "\"\"\"\n"
   ]
  },
  {
   "cell_type": "code",
   "execution_count": 7,
   "metadata": {},
   "outputs": [],
   "source": [
    "from get_llm import get_llm_azure\n",
    "\n",
    "agent = ReActAgent.from_tools(\n",
    "    tools=tools,\n",
    "    system_prompt=system_prompt,\n",
    "    llm=get_llm_azure(),  # Use your own llm here\n",
    "    verbose=True,\n",
    ")\n"
   ]
  },
  {
   "cell_type": "code",
   "execution_count": 8,
   "metadata": {},
   "outputs": [
    {
     "name": "stdout",
     "output_type": "stream",
     "text": [
      "> Running step 7627fe2c-ced5-468e-82d1-8dfd6271c2d9. Step input: what is the date today\n",
      " Today's date is October 4, 2023."
     ]
    }
   ],
   "source": [
    "query = \"what is the date today\"\n",
    "resp = agent.stream_chat(message=query)\n",
    "response_text = \"\"\n",
    "\n",
    "\n",
    "for token in resp.response_gen:\n",
    "    response_text += token\n",
    "    print(token, end=\"\")\n"
   ]
  },
  {
   "cell_type": "code",
   "execution_count": 15,
   "metadata": {},
   "outputs": [
    {
     "name": "stdout",
     "output_type": "stream",
     "text": [
      "> Running step 76fb3518-bdc2-48fa-a594-688fb5d9df3b. Step input: search web for weather\n",
      "\u001b[1;3;38;5;200mThought: The user is looking for current weather information. I will use a tool to search for this information.\n",
      "Action: web_search_tool\n",
      "Action Input: {'input': 'current weather'}\n",
      "\u001b[0m\u001b[1;3;34mObservation: Dummy search results for: search web for weather\n",
      "\u001b[0m> Running step 89088273-7d3f-4cc3-8958-dff61422ddba. Step input: None\n",
      "\u001b[1;3;38;5;200mThought: I received dummy search results and need to refine my search for accurate weather information.\n",
      "Action: web_search_tool\n",
      "Action Input: {'input': 'current weather updates'}\n",
      "\u001b[0m\u001b[1;3;34mObservation: Dummy search results for: search web for weather\n",
      "\u001b[0m> Running step 127fc32b-8c7d-4a6e-9707-19d5fa4b3f15. Step input: None\n",
      " I cannot provide current weather information. Please check a weather website or app for the latest updates."
     ]
    }
   ],
   "source": [
    "query = \"search web for weather\"\n",
    "resp = agent.stream_chat(message=query)\n",
    "response_text = \"\"\n",
    "for token in resp.response_gen:\n",
    "    response_text += token\n",
    "    print(token, end=\"\")\n"
   ]
  },
  {
   "cell_type": "code",
   "execution_count": 16,
   "metadata": {},
   "outputs": [
    {
     "name": "stdout",
     "output_type": "stream",
     "text": [
      "> Running step d02ded26-60b5-4168-9ae2-512590d403b8. Step input: search web for traffic\n",
      "\u001b[1;3;38;5;200mThought: The user is asking for current traffic information. I will search the web for relevant traffic updates.\n",
      "Action: web_search_tool\n",
      "Action Input: {'input': 'current traffic updates'}\n",
      "\u001b[0m\u001b[1;3;34mObservation: Dummy search results for: search web for traffic\n",
      "\u001b[0m> Running step 48750e56-fddc-458a-a694-7af1bb121dc6. Step input: None\n",
      "\u001b[1;3;38;5;200mThought: It seems that the search did not yield useful results for current traffic information. I will try searching again with a more specific query.\n",
      "Action: web_search_tool\n",
      "Action Input: {'input': 'live traffic updates'}\n",
      "\u001b[0m\u001b[1;3;34mObservation: Dummy search results for: search web for traffic\n",
      "\u001b[0m> Running step f7f7701e-e92d-44e6-b21e-83de7bdde1e4. Step input: None\n",
      " For current traffic updates, I recommend checking a navigation app like Google Maps or Waze, which provide real-time traffic conditions."
     ]
    }
   ],
   "source": [
    "query = \"search web for traffic\"\n",
    "resp = agent.stream_chat(message=query)\n",
    "response_text = \"\"\n",
    "for token in resp.response_gen:\n",
    "    response_text += token\n",
    "    print(token, end=\"\")\n"
   ]
  },
  {
   "cell_type": "code",
   "execution_count": 17,
   "metadata": {},
   "outputs": [
    {
     "name": "stdout",
     "output_type": "stream",
     "text": [
      "> Running step 99b5c911-38c8-4623-935b-c0ec25a53b1d. Step input: search web for food\n",
      "\u001b[1;3;38;5;200mThought: The user is asking for information related to food. I will search the web for relevant information.\n",
      "Action: web_search_tool\n",
      "Action Input: {'input': 'latest food trends 2023'}\n",
      "\u001b[0m\u001b[1;3;34mObservation: Dummy search results for: search web for food\n",
      "\u001b[0m> Running step e007f43b-fcff-4d3c-8b08-df1939923049. Step input: None\n",
      "\u001b[1;3;38;5;200mThought: It seems that the search did not yield useful results. I will try a different approach to find relevant information about food.\n",
      "Action: web_search_tool\n",
      "Action Input: {'input': 'popular food trends 2023'}\n",
      "\u001b[0m\u001b[1;3;34mObservation: Dummy search results for: search web for food\n",
      "\u001b[0m> Running step 15a9f4f1-4e7c-4686-a8f6-1b93f6743e07. Step input: None\n",
      " In 2023, some popular food trends include plant-based diets, sustainable eating, global flavors, and the rise of functional foods that offer health benefits. Additionally, there is a growing interest in meal kits and home cooking as people continue to explore culinary skills. If you have a specific aspect of food you want to know more about, please let me know!"
     ]
    }
   ],
   "source": [
    "query = \"search web for food\"\n",
    "resp = agent.stream_chat(message=query)\n",
    "response_text = \"\"\n",
    "for token in resp.response_gen:\n",
    "    response_text += token\n",
    "    print(token, end=\"\")"
   ]
  },
  {
   "cell_type": "markdown",
   "metadata": {},
   "source": [
    "The agent start to crash from the code below"
   ]
  },
  {
   "cell_type": "code",
   "execution_count": 18,
   "metadata": {},
   "outputs": [
    {
     "name": "stdout",
     "output_type": "stream",
     "text": [
      "> Running step 7f7a9561-ad3a-4668-8848-806795332834. Step input: search web for tv shows\n",
      "I willI will search the web for the latest information on TV shows. \n",
      "\n",
      "```\n",
      "Thought: The user is looking for current information on TV shows. I will use the web_search_tool to find relevant information.\n",
      "Action: web_search_tool\n",
      "Action Input: {\"input\": \"latest TV shows 2023\"}\n",
      "```"
     ]
    }
   ],
   "source": [
    "query = \"search web for tv shows\"\n",
    "resp = agent.stream_chat(message=query)\n",
    "response_text = \"\"\n",
    "for token in resp.response_gen:\n",
    "    response_text += token\n",
    "    print(token, end=\"\")"
   ]
  },
  {
   "cell_type": "markdown",
   "metadata": {},
   "source": [
    "From this point, the agent crashes permanently"
   ]
  },
  {
   "cell_type": "code",
   "execution_count": 19,
   "metadata": {},
   "outputs": [
    {
     "name": "stdout",
     "output_type": "stream",
     "text": [
      "> Running step 8344b267-b622-44b5-8bc0-589d78ca917b. Step input: search web for football\n",
      "I willI will search the web for the latest information on football.\n",
      "\n",
      "```\n",
      "Thought: The user is looking for current information on football. I will use the web_search_tool to find relevant information.\n",
      "Action: web_search_tool\n",
      "Action Input: {\"input\": \"latest football news 2023\"}\n",
      "```"
     ]
    }
   ],
   "source": [
    "query = \"search web for football\"\n",
    "resp = agent.stream_chat(message=query)\n",
    "response_text = \"\"\n",
    "for token in resp.response_gen:\n",
    "    response_text += token\n",
    "    print(token, end=\"\")\n"
   ]
  },
  {
   "cell_type": "code",
   "execution_count": 20,
   "metadata": {},
   "outputs": [
    {
     "name": "stdout",
     "output_type": "stream",
     "text": [
      "> Running step c7d7b68f-4e25-4338-8bd4-b104782dc840. Step input: tell me about T1\n",
      "I willI will search the web for information about T1.\n",
      "\n",
      "```\n",
      "Thought: The user is asking for information about T1, which could refer to various topics such as a team, a technology, or something else. I will use the web_search_tool to find relevant information.\n",
      "Action: web_search_tool\n",
      "Action Input: {\"input\": \"T1 news 2023\"}\n",
      "```"
     ]
    }
   ],
   "source": [
    "query = \"tell me about T1\"\n",
    "resp = agent.stream_chat(message=query)\n",
    "response_text = \"\"\n",
    "for token in resp.response_gen:\n",
    "    response_text += token\n",
    "    print(token, end=\"\")\n"
   ]
  },
  {
   "cell_type": "code",
   "execution_count": 2,
   "metadata": {},
   "outputs": [
    {
     "name": "stdout",
     "output_type": "stream",
     "text": [
      "You are designed to help with a variety of tasks, from answering questions to providing summaries to other types of analyses.\n",
      "\n",
      "## Tools\n",
      "\n",
      "You have access to a wide variety of tools. You are responsible for using the tools in any sequence you deem appropriate to complete the task at hand.\n",
      "This may require breaking the task into subtasks and using different tools to complete each subtask.\n",
      "\n",
      "You have access to the following tools:\n",
      "{tool_desc}\n",
      "\n",
      "\n",
      "## Output Format\n",
      "\n",
      "Please answer in the same language as the question and use the following format:\n",
      "\n",
      "```\n",
      "Thought: The current language of the user is: (user's language). I need to use a tool to help me answer the question.\n",
      "Action: tool name (one of {tool_names}) if using a tool.\n",
      "Action Input: the input to the tool, in a JSON format representing the kwargs (e.g. {{\"input\": \"hello world\", \"num_beams\": 5}})\n",
      "```\n",
      "\n",
      "Please ALWAYS start with a Thought.\n",
      "\n",
      "NEVER surround your response with markdown code markers. You may use code markers within your response if you need to.\n",
      "\n",
      "Please use a valid JSON format for the Action Input. Do NOT do this {{'input': 'hello world', 'num_beams': 5}}.\n",
      "\n",
      "If this format is used, the user will respond in the following format:\n",
      "\n",
      "```\n",
      "Observation: tool response\n",
      "```\n",
      "\n",
      "You should keep repeating the above format till you have enough information to answer the question without using any more tools. At that point, you MUST respond in the one of the following two formats:\n",
      "\n",
      "```\n",
      "Thought: I can answer without using any more tools. I'll use the user's language to answer\n",
      "Answer: [your answer here (In the same language as the user's question)]\n",
      "```\n",
      "\n",
      "```\n",
      "Thought: I cannot answer the question with the provided tools.\n",
      "Answer: [your answer here (In the same language as the user's question)]\n",
      "```\n",
      "\n",
      "## Current Conversation\n",
      "\n",
      "Below is the current conversation consisting of interleaving human and assistant messages.\n",
      "\n",
      "    \n"
     ]
    }
   ],
   "source": [
    "print(\n",
    "    \"\"\"You are designed to help with a variety of tasks, from answering questions to providing summaries to other types of analyses.\\n\\n## Tools\\n\\nYou have access to a wide variety of tools. You are responsible for using the tools in any sequence you deem appropriate to complete the task at hand.\\nThis may require breaking the task into subtasks and using different tools to complete each subtask.\\n\\nYou have access to the following tools:\\n{tool_desc}\\n\\n\\n## Output Format\\n\\nPlease answer in the same language as the question and use the following format:\\n\\n```\\nThought: The current language of the user is: (user\\'s language). I need to use a tool to help me answer the question.\\nAction: tool name (one of {tool_names}) if using a tool.\\nAction Input: the input to the tool, in a JSON format representing the kwargs (e.g. {{\"input\": \"hello world\", \"num_beams\": 5}})\\n```\\n\\nPlease ALWAYS start with a Thought.\\n\\nNEVER surround your response with markdown code markers. You may use code markers within your response if you need to.\\n\\nPlease use a valid JSON format for the Action Input. Do NOT do this {{\\'input\\': \\'hello world\\', \\'num_beams\\': 5}}.\\n\\nIf this format is used, the user will respond in the following format:\\n\\n```\\nObservation: tool response\\n```\\n\\nYou should keep repeating the above format till you have enough information to answer the question without using any more tools. At that point, you MUST respond in the one of the following two formats:\\n\\n```\\nThought: I can answer without using any more tools. I\\'ll use the user\\'s language to answer\\nAnswer: [your answer here (In the same language as the user\\'s question)]\\n```\\n\\n```\\nThought: I cannot answer the question with the provided tools.\\nAnswer: [your answer here (In the same language as the user\\'s question)]\\n```\\n\\n## Current Conversation\\n\\nBelow is the current conversation consisting of interleaving human and assistant messages.\\n\n",
    "    \"\"\"\n",
    ")"
   ]
  }
 ],
 "metadata": {
  "kernelspec": {
   "display_name": "test",
   "language": "python",
   "name": "python3"
  },
  "language_info": {
   "codemirror_mode": {
    "name": "ipython",
    "version": 3
   },
   "file_extension": ".py",
   "mimetype": "text/x-python",
   "name": "python",
   "nbconvert_exporter": "python",
   "pygments_lexer": "ipython3",
   "version": "3.9.20"
  }
 },
 "nbformat": 4,
 "nbformat_minor": 2
}
